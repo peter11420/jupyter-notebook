{
 "cells": [
  {
   "cell_type": "code",
   "execution_count": 1,
   "metadata": {},
   "outputs": [
    {
     "name": "stdout",
     "output_type": "stream",
     "text": [
      "Hello World\n"
     ]
    }
   ],
   "source": [
    "print ('Hello World')"
   ]
  },
  {
   "cell_type": "code",
   "execution_count": 1,
   "metadata": {},
   "outputs": [
    {
     "name": "stdout",
     "output_type": "stream",
     "text": [
      "1\n",
      "2\n",
      "3\n",
      "4\n",
      "5\n",
      "6\n",
      "7\n",
      "8\n",
      "9\n",
      "10\n",
      "3\n",
      "iamStringValue\n"
     ]
    }
   ],
   "source": [
    "\n",
    "iamInt=0\n",
    "iamString=\"我們要變很厲害\"\n",
    "\n",
    "for num in range(0,10):\n",
    "    iamInt=iamInt + 1\n",
    "    print(iamInt)\n",
    "\n",
    "    \n",
    "    \n",
    "Arrary=[1,2,3,4,5]\n",
    "dict={ 'iamStringKey' : \"iamStringValue\" }\n",
    "\n",
    "\n",
    "print(Arrary[2])\n",
    "print(dict['iamStringKey'])"
   ]
  },
  {
   "cell_type": "code",
   "execution_count": null,
   "metadata": {},
   "outputs": [],
   "source": []
  }
 ],
 "metadata": {
  "kernelspec": {
   "display_name": "Python 3",
   "language": "python",
   "name": "python3"
  },
  "language_info": {
   "codemirror_mode": {
    "name": "ipython",
    "version": 3
   },
   "file_extension": ".py",
   "mimetype": "text/x-python",
   "name": "python",
   "nbconvert_exporter": "python",
   "pygments_lexer": "ipython3",
   "version": "3.6.5"
  }
 },
 "nbformat": 4,
 "nbformat_minor": 2
}
